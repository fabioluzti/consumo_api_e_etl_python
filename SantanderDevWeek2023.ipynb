{
  "nbformat": 4,
  "nbformat_minor": 0,
  "metadata": {
    "colab": {
      "provenance": []
    },
    "kernelspec": {
      "name": "python3",
      "display_name": "Python 3"
    },
    "language_info": {
      "name": "python"
    }
  },
  "cells": [
    {
      "cell_type": "markdown",
      "source": [
        "# Santander Dev Week 2023 (ETL com Python)"
      ],
      "metadata": {
        "id": "BPJQsTCULaC-"
      }
    },
    {
      "cell_type": "markdown",
      "source": [
        "**Contexto:** Você é um cientista de dados no Santander e recebeu a tarefa de envolver seus clientes de maneira mais personalizada. Seu objetivo enriquecer os dados de clientes com dicas sobre o preço de fechamento dos ativos do banco.\n",
        "\n",
        "**Condições do Problema:**\n",
        "\n",
        "1. Você recebeu uma planilha simples, em formato CSV ('SDW2023.csv'), com uma lista de IDs de usuário do banco:\n",
        "  ```\n",
        "  UserID\n",
        "  1\n",
        "  2\n",
        "  3\n",
        "  4\n",
        "  5\n",
        "  ```\n",
        "2. Seu trabalho é consumir o endpoint `GET https://sdw-2023-prd.up.railway.app/users/{id}` (API da Santander Dev Week 2023) para obter os dados de cada cliente.\n",
        "3. Depois de obter os dados dos clientes, você vai usar um serviço de cotações de ativos para informar o preço de fechamento ajustado dos ativos do banco. Essa mensagem deve enfatizar a oportunidade de investimento.\n",
        "4. Uma vez que a mensagem para cada cliente esteja pronta, você vai entregar os dados enriquecidos em uma arquivo json que será consumido pelos serviços do banco Santander.\n",
        "\n"
      ],
      "metadata": {
        "id": "k5fA5OrXt1a3"
      }
    },
    {
      "cell_type": "code",
      "source": [
        "# Repositório da API: https://github.com/digitalinnovationone/santander-dev-week-2023-api\n",
        "sdw2023_api_url = 'https://sdw-2023-prd.up.railway.app'"
      ],
      "metadata": {
        "id": "FKqLC_CWoYqR"
      },
      "execution_count": 1,
      "outputs": []
    },
    {
      "cell_type": "markdown",
      "source": [
        "## **E**xtract\n",
        "\n",
        "Extraia a lista de IDs de usuário a partir do arquivo CSV. Para cada ID, faça uma requisição GET para obter os dados do usuário correspondente."
      ],
      "metadata": {
        "id": "9dfI-o7gLRq9"
      }
    },
    {
      "cell_type": "code",
      "execution_count": 3,
      "metadata": {
        "id": "NYydpX_GLRCB",
        "colab": {
          "base_uri": "https://localhost:8080/"
        },
        "outputId": "b9e15391-5762-4df8-9dfe-1e87e01f0517"
      },
      "outputs": [
        {
          "output_type": "execute_result",
          "data": {
            "text/plain": [
              "[1, 2, 3, 4, 5]"
            ]
          },
          "metadata": {},
          "execution_count": 3
        }
      ],
      "source": [
        "import pandas as pd\n",
        "\n",
        "df = pd.read_csv('SDW2023.csv')\n",
        "user_ids = df['UserID'].tolist()\n",
        "user_ids"
      ]
    },
    {
      "cell_type": "code",
      "source": [
        "import requests\n",
        "import json\n",
        "\n",
        "def get_user(id):\n",
        "  response = requests.get(f'{sdw2023_api_url}/users/{id}')\n",
        "  return response.json() if response.status_code == 200 else None"
      ],
      "metadata": {
        "id": "F5XOuCZGSTGw"
      },
      "execution_count": 5,
      "outputs": []
    },
    {
      "cell_type": "markdown",
      "source": [
        "\n",
        "Recupere o preço de fechamento ajustado para as ações solicitadas do banco Santander e gere uma mensagem personalizada para os clientes."
      ],
      "metadata": {
        "id": "Rr_VJDMp_qCT"
      }
    },
    {
      "cell_type": "code",
      "source": [
        "import pandas_datareader.data as pdr\n",
        "import yfinance\n",
        "from datetime import date,timedelta\n",
        "\n",
        "def cotacao_bolsa(ativos=[]):\n",
        "  if len(ativos)<=0:\n",
        "    return []\n",
        "\n",
        "  yfinance.pdr_override()\n",
        "\n",
        "  data_final = date.today()\n",
        "  data_inicial = data_final - timedelta(7)\n",
        "\n",
        "  tabela_cotacoes = pdr.get_data_yahoo(ativos, data_inicial, data_final)\n",
        "\n",
        "  retorno = []\n",
        "\n",
        "  if len(ativos) > 1:\n",
        "    for ativo in ativos:\n",
        "      retorno.append({\n",
        "        \"icon\": \"https://digitalinnovationone.github.io/santander-dev-week-2023-api/icons/credit.svg\",\n",
        "        \"description\": (f\"Oportunidade de investimento!!, preço de fechamento atualizado do ativo {ativos[ativos.index(ativo)]} é R$ {round(tabela_cotacoes['Adj Close'][ativo].tail(1)[0],2)}\")\n",
        "      })\n",
        "\n",
        "    return retorno\n",
        "  else:\n",
        "    retorno.append({\n",
        "      \"icon\": \"https://digitalinnovationone.github.io/santander-dev-week-2023-api/icons/credit.svg\",\n",
        "      \"description\": (f\"Oportunidade de investimento!!, preço de fechamento atualizado do ativo {ativos[0]} é R$ {round(tabela_cotacoes['Adj Close'].tail(1)[0],2)}\")\n",
        "    })\n",
        "\n",
        "    return retorno"
      ],
      "metadata": {
        "id": "8e2cbkKKuLer"
      },
      "execution_count": 14,
      "outputs": []
    },
    {
      "cell_type": "markdown",
      "source": [
        "## **T**ransform\n",
        "\n",
        "Inclua no canal news de cada usuário informado as mensagens geradas sobre o preço de fechamento dos ativos."
      ],
      "metadata": {
        "id": "cWoqInB4TF1x"
      }
    },
    {
      "cell_type": "code",
      "source": [
        "users = [user for id in user_ids if (user := get_user(id)) is not None]\n",
        "\n",
        "ativos = ['SANB11.SA','SANB4.SA','SANB3.SA',]\n",
        "\n",
        "precos_fechamento = cotacao_bolsa(ativos)\n",
        "\n",
        "for user in users:\n",
        "  for item in precos_fechamento:\n",
        "    user['news'].append(item)\n",
        "\n",
        "print(json.dumps(users, indent=2))"
      ],
      "metadata": {
        "id": "O--PCAObTQkK",
        "colab": {
          "base_uri": "https://localhost:8080/"
        },
        "outputId": "54be77d5-8430-4074-ccf2-9cba18626197"
      },
      "execution_count": 15,
      "outputs": [
        {
          "output_type": "stream",
          "name": "stdout",
          "text": [
            "[*********************100%%**********************]  3 of 3 completed\n",
            "[\n",
            "  {\n",
            "    \"id\": 1,\n",
            "    \"name\": \"Devweekerson\",\n",
            "    \"account\": {\n",
            "      \"id\": 1,\n",
            "      \"number\": \"01.097954-4\",\n",
            "      \"agency\": \"2030\",\n",
            "      \"balance\": 624.12,\n",
            "      \"limit\": 1000.0\n",
            "    },\n",
            "    \"card\": {\n",
            "      \"id\": 1,\n",
            "      \"number\": \"xxxx xxxx xxxx 1111\",\n",
            "      \"limit\": 2000.0\n",
            "    },\n",
            "    \"features\": [\n",
            "      {\n",
            "        \"id\": 2,\n",
            "        \"icon\": \"https://digitalinnovationone.github.io/santander-dev-week-2023-api/icons/pay.svg\",\n",
            "        \"description\": \"Pagar\"\n",
            "      },\n",
            "      {\n",
            "        \"id\": 3,\n",
            "        \"icon\": \"https://digitalinnovationone.github.io/santander-dev-week-2023-api/icons/transfer.svg\",\n",
            "        \"description\": \"Transferir\"\n",
            "      },\n",
            "      {\n",
            "        \"id\": 4,\n",
            "        \"icon\": \"https://digitalinnovationone.github.io/santander-dev-week-2023-api/icons/account.svg\",\n",
            "        \"description\": \"Conta Corrente\"\n",
            "      },\n",
            "      {\n",
            "        \"id\": 5,\n",
            "        \"icon\": \"https://digitalinnovationone.github.io/santander-dev-week-2023-api/icons/cards.svg\",\n",
            "        \"description\": \"Cart\\u00f5es\"\n",
            "      },\n",
            "      {\n",
            "        \"id\": 1,\n",
            "        \"icon\": \"https://digitalinnovationone.github.io/santander-dev-week-2023-api/icons/pix.svg\",\n",
            "        \"description\": \"PIX\"\n",
            "      }\n",
            "    ],\n",
            "    \"news\": [\n",
            "      {\n",
            "        \"id\": 1,\n",
            "        \"icon\": \"https://digitalinnovationone.github.io/santander-dev-week-2023-api/icons/credit.svg\",\n",
            "        \"description\": \"O Santander tem solu\\u00e7\\u00f5es de cr\\u00e9dito sob medida pra voc\\u00ea. Confira!\"\n",
            "      },\n",
            "      {\n",
            "        \"id\": 2,\n",
            "        \"icon\": \"https://digitalinnovationone.github.io/santander-dev-week-2023-api/icons/insurance.svg\",\n",
            "        \"description\": \"Santander Seguro Casa, seu faz-tudo. Mais de 50 servi\\u00e7os pra voc\\u00ea. Confira!\"\n",
            "      },\n",
            "      {\n",
            "        \"icon\": \"https://digitalinnovationone.github.io/santander-dev-week-2023-api/icons/credit.svg\",\n",
            "        \"description\": \"Oportunidade de investimento!!, pre\\u00e7o de fechamento atualizado do ativo SANB11.SA \\u00e9 R$ 27.0\"\n",
            "      },\n",
            "      {\n",
            "        \"icon\": \"https://digitalinnovationone.github.io/santander-dev-week-2023-api/icons/credit.svg\",\n",
            "        \"description\": \"Oportunidade de investimento!!, pre\\u00e7o de fechamento atualizado do ativo SANB4.SA \\u00e9 R$ 14.23\"\n",
            "      },\n",
            "      {\n",
            "        \"icon\": \"https://digitalinnovationone.github.io/santander-dev-week-2023-api/icons/credit.svg\",\n",
            "        \"description\": \"Oportunidade de investimento!!, pre\\u00e7o de fechamento atualizado do ativo SANB3.SA \\u00e9 R$ 12.79\"\n",
            "      }\n",
            "    ]\n",
            "  }\n",
            "]\n"
          ]
        }
      ]
    },
    {
      "cell_type": "markdown",
      "source": [
        "## **L**oad\n",
        "\n",
        "Salve um arquivo no formato json com os dados enriquecidos dos clientes para ser consumido pelos serviços do banco Santander."
      ],
      "metadata": {
        "id": "kNuP0SDUZMBY"
      }
    },
    {
      "cell_type": "code",
      "source": [
        "load = pd.DataFrame(users)\n",
        "\n",
        "load.to_json('SDW2023.json')"
      ],
      "metadata": {
        "id": "bhE2UrNmG9_V"
      },
      "execution_count": 19,
      "outputs": []
    }
  ]
}